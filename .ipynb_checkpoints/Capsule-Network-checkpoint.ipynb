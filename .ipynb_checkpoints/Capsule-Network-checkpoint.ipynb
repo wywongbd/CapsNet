{
 "cells": [
  {
   "cell_type": "markdown",
   "metadata": {},
   "source": [
    "# Capsule Network (CapsNet)"
   ]
  },
  {
   "cell_type": "markdown",
   "metadata": {},
   "source": [
    "Based on: \"Dynamic Routing Between Capsules\", by Sara Sabour, Nicholas Frosst and Geoffrey E. Hinton (NIPS 2017)."
   ]
  },
  {
   "cell_type": "code",
   "execution_count": 1,
   "metadata": {},
   "outputs": [],
   "source": [
    "import tensorflow as tf\n",
    "import numpy as np"
   ]
  },
  {
   "cell_type": "markdown",
   "metadata": {},
   "source": [
    "# Load MNIST "
   ]
  },
  {
   "cell_type": "code",
   "execution_count": 2,
   "metadata": {},
   "outputs": [
    {
     "name": "stdout",
     "output_type": "stream",
     "text": [
      "Extracting /tmp/data/train-images-idx3-ubyte.gz\n",
      "Extracting /tmp/data/train-labels-idx1-ubyte.gz\n",
      "Extracting /tmp/data/t10k-images-idx3-ubyte.gz\n",
      "Extracting /tmp/data/t10k-labels-idx1-ubyte.gz\n"
     ]
    }
   ],
   "source": [
    "from tensorflow.examples.tutorials.mnist import input_data\n",
    "\n",
    "mnist = input_data.read_data_sets(\"/tmp/data/\")"
   ]
  },
  {
   "cell_type": "markdown",
   "metadata": {},
   "source": [
    "Visualize a few images from MNIST dataset"
   ]
  },
  {
   "cell_type": "code",
   "execution_count": 9,
   "metadata": {},
   "outputs": [
    {
     "data": {
      "image/png": "[encoded data removed]",
      "text/plain": [
       "<matplotlib.figure.Figure at 0x1cce5822e80>"
      ]
     },
     "metadata": {},
     "output_type": "display_data"
    },
    {
     "data": {
      "image/png": "[encoded data removed]",
      "text/plain": [
       "<matplotlib.figure.Figure at 0x1cce58b3fd0>"
      ]
     },
     "metadata": {},
     "output_type": "display_data"
    },
    {
     "data": {
      "image/png": "[encoded data removed]",
      "text/plain": [
       "<matplotlib.figure.Figure at 0x1cce594be10>"
      ]
     },
     "metadata": {},
     "output_type": "display_data"
    }
   ],
   "source": [
    "from matplotlib import pyplot as plt\n",
    "\n",
    "n_samples = 3\n",
    "\n",
    "for index in np.random.randint(10, size = n_samples):\n",
    "    sample_image = mnist.train.images[index].reshape(28, 28)\n",
    "    plt.imshow(sample_image, cmap=\"binary\")\n",
    "    plt.show()"
   ]
  },
  {
   "cell_type": "markdown",
   "metadata": {},
   "source": [
    "# Set seed to ensure reproducibility"
   ]
  },
  {
   "cell_type": "code",
   "execution_count": 10,
   "metadata": {
    "collapsed": true
   },
   "outputs": [],
   "source": [
    "np.random.seed(42)\n",
    "tf.set_random_seed(42)"
   ]
  },
  {
   "cell_type": "markdown",
   "metadata": {},
   "source": [
    "# Initialize CapsuleNet model\n",
    "\n",
    "For details of implementation of CapsuleNet class, please refer to *CapsNet.py* file."
   ]
  },
  {
   "cell_type": "code",
   "execution_count": 11,
   "metadata": {},
   "outputs": [],
   "source": [
    "from CapsNet import CapsuleNet\n",
    "\n",
    "sess = tf.Session()\n",
    "net  = CapsuleNet(sess)"
   ]
  },
  {
   "cell_type": "markdown",
   "metadata": {},
   "source": [
    "# Init and Saver"
   ]
  },
  {
   "cell_type": "code",
   "execution_count": 12,
   "metadata": {
    "collapsed": true
   },
   "outputs": [],
   "source": [
    "init = tf.global_variables_initializer()\n",
    "saver = tf.train.Saver()"
   ]
  },
  {
   "cell_type": "markdown",
   "metadata": {},
   "source": [
    "# Training\n",
    "\n",
    "The optimizer used here is AdamOptimizer. "
   ]
  },
  {
   "cell_type": "code",
   "execution_count": 16,
   "metadata": {},
   "outputs": [
    {
     "name": "stdout",
     "output_type": "stream",
     "text": [
      "Epoch: 1  Val accuracy: 96.0200%  Loss: 3.836868 (improved)\n",
      "Epoch: 2  Val accuracy: 97.3600%  Loss: 2.736461 (improved)\n",
      "Epoch: 3  Val accuracy: 97.9200%  Loss: 2.239671 (improved)\n",
      "Epoch: 4  Val accuracy: 98.1600%  Loss: 2.008119 (improved)\n",
      "Epoch: 5  Val accuracy: 98.3800%  Loss: 1.851860 (improved)\n",
      "Epoch: 6  Val accuracy: 98.4800%  Loss: 1.750809 (improved)\n",
      "Epoch: 7  Val accuracy: 98.6000%  Loss: 1.681795 (improved)\n",
      "Epoch: 8  Val accuracy: 98.6400%  Loss: 1.617944 (improved)\n",
      "Epoch: 9  Val accuracy: 98.6800%  Loss: 1.597319 (improved)\n",
      "Epoch: 10  Val accuracy: 98.7200%  Loss: 1.521981 (improved)\n"
     ]
    }
   ],
   "source": [
    "n_epochs = 10\n",
    "batch_size = 50\n",
    "restore_checkpoint = True\n",
    "\n",
    "n_iterations_per_epoch = mnist.train.num_examples // batch_size\n",
    "n_iterations_validation = mnist.validation.num_examples // batch_size\n",
    "best_loss_val = np.infty\n",
    "checkpoint_path = \"./my_capsule_network\"\n",
    "\n",
    "\n",
    "if restore_checkpoint and tf.train.checkpoint_exists(checkpoint_path):\n",
    "    saver.restore(sess, checkpoint_path)\n",
    "else:\n",
    "    init.run(session=sess)\n",
    "\n",
    "for epoch in range(n_epochs):\n",
    "    for iteration in range(1, n_iterations_per_epoch + 1):\n",
    "        X_batch, y_batch = mnist.train.next_batch(batch_size)\n",
    "        # Run the training operation and measure the loss:\n",
    "        _, loss_train = sess.run(\n",
    "            [net.training_op, net.loss],\n",
    "            feed_dict={net.imgs: X_batch.reshape([-1, 28, 28, 1]),\n",
    "                       net.labels: y_batch,\n",
    "                       net.mask_with_labels: True})\n",
    "        print(\"\\rIteration: {}/{} ({:.1f}%)  Loss: {:.5f}\".format(\n",
    "                  iteration, n_iterations_per_epoch,\n",
    "                  iteration * 100 / n_iterations_per_epoch,\n",
    "                  loss_train),\n",
    "              end=\"\")\n",
    "\n",
    "    # At the end of each epoch,\n",
    "    # measure the validation loss and accuracy:\n",
    "    loss_vals = []\n",
    "    acc_vals = []\n",
    "    for iteration in range(1, n_iterations_validation + 1):\n",
    "        X_batch, y_batch = mnist.validation.next_batch(batch_size)\n",
    "        loss_val, acc_val = sess.run(\n",
    "                [net.loss, net.accuracy],\n",
    "                feed_dict={net.imgs: X_batch.reshape([-1, 28, 28, 1]),\n",
    "                           net.labels: y_batch})\n",
    "        loss_vals.append(loss_val)\n",
    "        acc_vals.append(acc_val)\n",
    "        print(\"\\rEvaluating the model: {}/{} ({:.1f}%)\".format(\n",
    "                  iteration, n_iterations_validation,\n",
    "                  iteration * 100 / n_iterations_validation),\n",
    "              end=\" \" * 10)\n",
    "    loss_val = np.mean(loss_vals)\n",
    "    acc_val = np.mean(acc_vals)\n",
    "    print(\"\\rEpoch: {}  Val accuracy: {:.4f}%  Loss: {:.6f}{}\".format(\n",
    "        epoch + 1, acc_val * 100, loss_val,\n",
    "        \" (improved)\" if loss_val < best_loss_val else \"\"))\n",
    "\n",
    "    # And save the model if it improved:\n",
    "    if loss_val < best_loss_val:\n",
    "        save_path = saver.save(sess, checkpoint_path)\n",
    "        best_loss_val = loss_val"
   ]
  },
  {
   "cell_type": "markdown",
   "metadata": {},
   "source": [
    "# Validation"
   ]
  },
  {
   "cell_type": "code",
   "execution_count": 17,
   "metadata": {},
   "outputs": [
    {
     "name": "stdout",
     "output_type": "stream",
     "text": [
      "INFO:tensorflow:Restoring parameters from ./my_capsule_network\n",
      "Final test accuracy: 98.7700%  Loss: 1.547566   \n"
     ]
    }
   ],
   "source": [
    "n_iterations_test = mnist.test.num_examples // batch_size\n",
    "\n",
    "saver.restore(sess, checkpoint_path)\n",
    "\n",
    "loss_tests = []\n",
    "acc_tests = []\n",
    "for iteration in range(1, n_iterations_test + 1):\n",
    "    X_batch, y_batch = mnist.test.next_batch(batch_size)\n",
    "    loss_test, acc_test = sess.run(\n",
    "            [net.loss, net.accuracy],\n",
    "            feed_dict={net.imgs: X_batch.reshape([-1, 28, 28, 1]),\n",
    "                       net.labels: y_batch})\n",
    "    loss_tests.append(loss_test)\n",
    "    acc_tests.append(acc_test)\n",
    "    print(\"\\rEvaluating the model: {}/{} ({:.1f}%)\".format(\n",
    "              iteration, n_iterations_test,\n",
    "              iteration * 100 / n_iterations_test),\n",
    "          end=\" \" * 10)\n",
    "loss_test = np.mean(loss_tests)\n",
    "acc_test = np.mean(acc_tests)\n",
    "print(\"\\rFinal test accuracy: {:.4f}%  Loss: {:.6f}\".format(\n",
    "    acc_test * 100, loss_test))"
   ]
  },
  {
   "cell_type": "code",
   "execution_count": null,
   "metadata": {
    "collapsed": true
   },
   "outputs": [],
   "source": []
  }
 ],
 "metadata": {
  "kernelspec": {
   "display_name": "Python (traders_nlp)",
   "language": "python",
   "name": "traders_nlp"
  },
  "language_info": {
   "codemirror_mode": {
    "name": "ipython",
    "version": 3
   },
   "file_extension": ".py",
   "mimetype": "text/x-python",
   "name": "python",
   "nbconvert_exporter": "python",
   "pygments_lexer": "ipython3",
   "version": "3.6.3"
  }
 },
 "nbformat": 4,
 "nbformat_minor": 2
}
